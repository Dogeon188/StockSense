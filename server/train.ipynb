{
 "cells": [
  {
   "cell_type": "markdown",
   "metadata": {},
   "source": [
    "## Setup"
   ]
  },
  {
   "cell_type": "markdown",
   "metadata": {},
   "source": [
    "### Imports"
   ]
  },
  {
   "cell_type": "code",
   "execution_count": 1,
   "metadata": {},
   "outputs": [],
   "source": [
    "import torch\n",
    "import torch.nn as nn\n",
    "import torch.optim as optim\n",
    "import matplotlib.pyplot as plt\n",
    "import random\n",
    "import math\n",
    "from datetime import datetime\n",
    "from itertools import count\n",
    "import pandas as pd\n",
    "import gymnasium as gym\n",
    "\n",
    "from IPython import display\n",
    "\n",
    "import stockcore.data as scdata\n",
    "import stockcore.models as scmodels\n",
    "import stockcore.environment as scenv\n",
    "import stockcore.utils as scutils"
   ]
  },
  {
   "cell_type": "code",
   "execution_count": 2,
   "metadata": {},
   "outputs": [],
   "source": [
    "is_ipython = scutils.setup_mpl()\n",
    "device = scutils.get_device()\n",
    "\n",
    "if is_ipython:\n",
    "    from tqdm.notebook import tqdm\n",
    "else:\n",
    "    from tqdm import tqdm"
   ]
  },
  {
   "cell_type": "markdown",
   "metadata": {},
   "source": [
    "### Data"
   ]
  },
  {
   "cell_type": "code",
   "execution_count": 3,
   "metadata": {},
   "outputs": [
    {
     "name": "stdout",
     "output_type": "stream",
     "text": [
      "(37305, 7)\n",
      "(37305, 7)\n",
      "                  date           unix     open     high      low    close  \\\n",
      "0  2020-08-18 07:00:00  1597734000000  12278.7  12289.3  12246.5  12284.4   \n",
      "1  2020-08-18 08:00:00  1597737600000  12283.5  12306.1  12265.5  12265.8   \n",
      "2  2020-08-18 09:00:00  1597741200000  12265.0  12273.9  12231.3  12235.2   \n",
      "3  2020-08-18 10:00:00  1597744800000  12234.8  12313.2  12197.9  12295.4   \n",
      "4  2020-08-18 11:00:00  1597748400000  12293.7  12298.8  12180.4  12189.4   \n",
      "\n",
      "       volume  \n",
      "0  167.048618  \n",
      "1  148.145490  \n",
      "2  155.735895  \n",
      "3  206.575700  \n",
      "4  210.599326  \n",
      "                  date           unix    open    high     low   close  \\\n",
      "0  2020-08-18 07:00:00  1597734000000  430.00  435.00  410.00  430.30   \n",
      "1  2020-08-18 08:00:00  1597737600000  430.27  431.79  430.27  430.80   \n",
      "2  2020-08-18 09:00:00  1597741200000  430.86  431.13  428.71  429.35   \n",
      "3  2020-08-18 10:00:00  1597744800000  429.75  432.69  428.59  431.90   \n",
      "4  2020-08-18 11:00:00  1597748400000  432.09  432.89  426.99  427.45   \n",
      "\n",
      "        volume  \n",
      "0   487.154463  \n",
      "1   454.176153  \n",
      "2  1183.710884  \n",
      "3  1686.183227  \n",
      "4  1980.692724  \n"
     ]
    }
   ],
   "source": [
    "# read csv as pandas dataframe\n",
    "btc_usd_df = pd.read_csv('btc_usd.csv')\n",
    "eth_usd_df = pd.read_csv('eth_usd.csv')\n",
    "print(btc_usd_df.shape)\n",
    "print(eth_usd_df.shape)\n",
    "print(btc_usd_df.head(5))\n",
    "print(eth_usd_df.head(5))"
   ]
  },
  {
   "cell_type": "markdown",
   "metadata": {},
   "source": [
    "### Environment"
   ]
  },
  {
   "cell_type": "code",
   "execution_count": 4,
   "metadata": {},
   "outputs": [],
   "source": [
    "env = scenv.MultiStockTradingEnv(name= \"BTC_ETH_USD\", dfs=[btc_usd_df, eth_usd_df], trading_fees=0.01/100)"
   ]
  },
  {
   "cell_type": "markdown",
   "metadata": {},
   "source": [
    "## Baseline: Random Agent"
   ]
  },
  {
   "cell_type": "code",
   "execution_count": 5,
   "metadata": {},
   "outputs": [
    {
     "name": "stdout",
     "output_type": "stream",
     "text": [
      "Portfolio Return : -88.56%\n"
     ]
    }
   ],
   "source": [
    "# Eatch step, the environment will return 5 inputs  : \"feature_close\", \"feature_open\", \"feature_high\", \"feature_low\", \"feature_volume\"\n",
    "# Run an episode until it ends :\n",
    "done, truncated = False, False\n",
    "observation = env.reset()\n",
    "# pbar = tqdm(total=env.get_dfs_length())\n",
    "while not done and not truncated:\n",
    "    # Pick a position by its index in your position list (=[-1, 0, 1])....usually something like : position_index = your_policy(observation)\n",
    "    position_index = env.action_space.sample() # At every timestep, pick a random position index from your position list (=[-1, 0, 1])\n",
    "    # pbar.update(1)\n",
    "    observation, reward, done, truncated, info = env.step(position_index)"
   ]
  },
  {
   "cell_type": "markdown",
   "metadata": {},
   "source": [
    "## Agent: Q-Learning"
   ]
  },
  {
   "cell_type": "markdown",
   "metadata": {},
   "source": [
    "### Build Agent"
   ]
  },
  {
   "cell_type": "code",
   "execution_count": 6,
   "metadata": {},
   "outputs": [],
   "source": [
    "BATCH_SIZE = 128  # number of transitions sampled from the replay buffer\n",
    "GAMMA = 0.99  # discount factor\n",
    "EPS_START = 0.9  # starting value of epsilon\n",
    "EPS_END = 0.05  # final value of epsilon\n",
    "EPS_DECAY = 1000  # rate of exponential decay of epsilon, higher means a slower decay\n",
    "TAU = 0.005  # update rate of the target network\n",
    "LR = 1e-4  # learning rate of the `AdamW` optimizer\n",
    "MEMORY_SIZE = 10000  # size of the replay buffer"
   ]
  },
  {
   "cell_type": "code",
   "execution_count": 7,
   "metadata": {},
   "outputs": [],
   "source": [
    "n_actions: int = env.action_space.n  # Get number of actions from gym action space\n",
    "state = env.reset()  # Get the number of state observations\n",
    "n_observations = len(state)\n",
    "\n",
    "policy_net = scmodels.NaiveDQN(env).to(device)\n",
    "target_net = scmodels.NaiveDQN(env).to(device)\n",
    "target_net.load_state_dict(policy_net.state_dict())\n",
    "\n",
    "optimizer = optim.AdamW(policy_net.parameters(), lr=LR, amsgrad=True)\n",
    "memory = scenv.ReplayMemory(MEMORY_SIZE)"
   ]
  },
  {
   "cell_type": "markdown",
   "metadata": {},
   "source": [
    "### Visualization"
   ]
  },
  {
   "cell_type": "code",
   "execution_count": 8,
   "metadata": {},
   "outputs": [],
   "source": [
    "episode_durations = []\n",
    "\n",
    "\n",
    "def plot_durations(show_result=False):\n",
    "    plt.figure(1)\n",
    "    durations_t = torch.tensor(episode_durations, dtype=torch.float)\n",
    "    if show_result:\n",
    "        plt.title('Result')\n",
    "    else:\n",
    "        plt.clf()\n",
    "        plt.title('Training...')\n",
    "    plt.xlabel('Episode')\n",
    "    plt.ylabel('Duration')\n",
    "    plt.plot(durations_t.numpy())\n",
    "    # Take 100 episode averages and plot them too\n",
    "    if len(durations_t) >= 100:\n",
    "        means = durations_t.unfold(0, 100, 1).mean(1).view(-1)\n",
    "        means = torch.cat((torch.zeros(99), means))\n",
    "        plt.plot(means.numpy())\n",
    "\n",
    "    plt.pause(0.001)  # pause a bit so that plots are updated\n",
    "    if is_ipython:\n",
    "        if not show_result:\n",
    "            display.display(plt.gcf())\n",
    "            display.clear_output(wait=True)\n",
    "        else:\n",
    "            display.display(plt.gcf())"
   ]
  },
  {
   "cell_type": "markdown",
   "metadata": {},
   "source": [
    "### Training"
   ]
  },
  {
   "cell_type": "code",
   "execution_count": 9,
   "metadata": {},
   "outputs": [],
   "source": [
    "def optimize_model():\n",
    "    if len(memory) < BATCH_SIZE:\n",
    "        return\n",
    "    transitions = memory.sample(BATCH_SIZE)\n",
    "    # Transpose the batch (see https://stackoverflow.com/a/19343/3343043 for\n",
    "    # detailed explanation). This converts batch-array of Transitions\n",
    "    # to Transition of batch-arrays.\n",
    "    batch = scenv.Transition(*zip(*transitions))\n",
    "\n",
    "    # Compute a mask of non-final states and concatenate the batch elements\n",
    "    # (a final state would've been the one after which simulation ended)\n",
    "    non_final_mask = torch.tensor(tuple(map(lambda s: s is not None,\n",
    "                                            batch.next_state)), device=device, dtype=torch.bool)\n",
    "    non_final_next_states = torch.cat([s for s in batch.next_state\n",
    "                                       if s is not None])\n",
    "\n",
    "    state_batch = torch.cat(batch.state)\n",
    "    action_batch = torch.cat(batch.action)\n",
    "    reward_batch = torch.cat(batch.reward)\n",
    "\n",
    "    # Compute Q(s_t, a) - the model computes Q(s_t), then we select the\n",
    "    # columns of actions taken. These are the actions which would've been taken\n",
    "    # for each batch state according to policy_net\n",
    "    state_action_values = policy_net(state_batch).gather(1, action_batch)\n",
    "    foo = policy_net(state_batch)\n",
    "\n",
    "    # Compute V(s_{t+1}) for all next states.\n",
    "    # Expected values of actions for non_final_next_states are computed based\n",
    "    # on the \"older\" target_net; selecting their best reward with max(1).values\n",
    "    # This is merged based on the mask, such that we'll have either the expected\n",
    "    # state value or 0 in case the state was final.\n",
    "    next_state_values = torch.zeros(BATCH_SIZE, device=device)\n",
    "    with torch.no_grad():\n",
    "        next_state_values[non_final_mask] = target_net(\n",
    "            non_final_next_states).max(1).values\n",
    "    # Compute the expected Q values\n",
    "    expected_state_action_values = (next_state_values * GAMMA) + reward_batch\n",
    "\n",
    "    # Compute Huber loss\n",
    "    criterion = nn.SmoothL1Loss()\n",
    "    loss = criterion(state_action_values,\n",
    "                     expected_state_action_values.unsqueeze(1))\n",
    "\n",
    "    # Optimize the model\n",
    "    optimizer.zero_grad()\n",
    "    loss.backward()\n",
    "    # In-place gradient clipping\n",
    "    torch.nn.utils.clip_grad_value_(policy_net.parameters(), 100)\n",
    "    optimizer.step()"
   ]
  },
  {
   "cell_type": "code",
   "execution_count": 10,
   "metadata": {},
   "outputs": [],
   "source": [
    "if scutils.is_backend_available():\n",
    "    num_episodes = 10\n",
    "else:\n",
    "    num_episodes = 60"
   ]
  },
  {
   "cell_type": "code",
   "execution_count": null,
   "metadata": {},
   "outputs": [],
   "source": [
    "def select_action(state: torch.Tensor) -> torch.Tensor:\n",
    "    select_action.steps_done = getattr(select_action, 'steps_done', 0)\n",
    "\n",
    "    eps_threshold = EPS_END + (\n",
    "        (EPS_START - EPS_END) *\n",
    "        math.exp(-1. * select_action.steps_done / EPS_DECAY)\n",
    "    )\n",
    "    \n",
    "    select_action.steps_done += 1\n",
    "\n",
    "    return policy_net.act(state, eps_threshold)"
   ]
  },
  {
   "cell_type": "code",
   "execution_count": 12,
   "metadata": {},
   "outputs": [
    {
     "name": "stdout",
     "output_type": "stream",
     "text": [
      "Complete\n"
     ]
    },
    {
     "data": {
      "image/png": "[encoded data removed]",
      "text/plain": [
       "<Figure size 640x480 with 1 Axes>"
      ]
     },
     "metadata": {},
     "output_type": "display_data"
    },
    {
     "data": {
      "text/plain": [
       "<Figure size 640x480 with 0 Axes>"
      ]
     },
     "metadata": {},
     "output_type": "display_data"
    },
    {
     "data": {
      "text/plain": [
       "<Figure size 640x480 with 0 Axes>"
      ]
     },
     "metadata": {},
     "output_type": "display_data"
    }
   ],
   "source": [
    "for i_episode in (pbar_epoch := tqdm(range(num_episodes))):\n",
    "    # Initialize the environment and get its state\n",
    "    state = env.reset()\n",
    "    state = torch.tensor(\n",
    "        state,\n",
    "        dtype=torch.float32, device=device).unsqueeze(0)\n",
    "    for t in (pbar_step := tqdm(count(), leave=False, total=env.get_dfs_length())):\n",
    "        action = select_action(state).to(device)\n",
    "        observation, reward, terminated, truncated, _ = env.step(action.item())\n",
    "        reward = torch.tensor([reward], device=device, dtype=torch.float32)\n",
    "        done = terminated or truncated\n",
    "\n",
    "        if terminated:\n",
    "            next_state = None\n",
    "        else:\n",
    "            next_state = torch.tensor(\n",
    "                observation, dtype=torch.float32, device=device).unsqueeze(0)\n",
    "\n",
    "        # Store the transition in memory\n",
    "        memory.push(state, action, next_state, reward)\n",
    "\n",
    "        # Move to the next state\n",
    "        state = next_state\n",
    "\n",
    "        # Perform one step of the optimization (on the policy network)\n",
    "        optimize_model()\n",
    "\n",
    "        # Soft update of the target network's weights\n",
    "        # θ′ ← τ θ + (1 −τ )θ′\n",
    "        target_net_state_dict = target_net.state_dict()\n",
    "        policy_net_state_dict = policy_net.state_dict()\n",
    "        for key in policy_net_state_dict:\n",
    "            target_net_state_dict[key] = (\n",
    "                policy_net_state_dict[key] * TAU +\n",
    "                target_net_state_dict[key] * (1 - TAU))\n",
    "        target_net.load_state_dict(target_net_state_dict)\n",
    "\n",
    "        if done:\n",
    "            episode_durations.append(t + 1)\n",
    "            plot_durations()\n",
    "            break\n",
    "\n",
    "print('Complete')\n",
    "plot_durations(show_result=True)\n",
    "plt.ioff()\n",
    "plt.show()"
   ]
  },
  {
   "cell_type": "code",
   "execution_count": 14,
   "metadata": {},
   "outputs": [],
   "source": [
    "# Save the model\n",
    "torch.save(policy_net.state_dict(), 'model.pth')"
   ]
  }
 ],
 "metadata": {
  "kernelspec": {
   "display_name": "stock",
   "language": "python",
   "name": "python3"
  },
  "language_info": {
   "codemirror_mode": {
    "name": "ipython",
    "version": 3
   },
   "file_extension": ".py",
   "mimetype": "text/x-python",
   "name": "python",
   "nbconvert_exporter": "python",
   "pygments_lexer": "ipython3",
   "version": "3.12.4"
  }
 },
 "nbformat": 4,
 "nbformat_minor": 4
}
