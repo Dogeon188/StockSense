{
 "cells": [
  {
   "cell_type": "markdown",
   "metadata": {},
   "source": [
    "## Setup"
   ]
  },
  {
   "cell_type": "markdown",
   "metadata": {},
   "source": [
    "### Imports"
   ]
  },
  {
   "cell_type": "code",
   "execution_count": null,
   "metadata": {},
   "outputs": [],
   "source": [
    "import torch\n",
    "from datetime import datetime\n",
    "from itertools import count\n",
    "\n",
    "import stockcore.data as scdata\n",
    "import stockcore.models as scmodels\n",
    "import stockcore.environment as scenv\n",
    "import stockcore.utils as scutils"
   ]
  },
  {
   "cell_type": "code",
   "execution_count": null,
   "metadata": {},
   "outputs": [],
   "source": [
    "is_ipython = scutils.setup_mpl()\n",
    "device = scutils.get_device()\n",
    "\n",
    "if is_ipython:\n",
    "    from tqdm.notebook import tqdm\n",
    "else:\n",
    "    from tqdm import tqdm"
   ]
  },
  {
   "cell_type": "markdown",
   "metadata": {},
   "source": [
    "### Data"
   ]
  },
  {
   "cell_type": "code",
   "execution_count": null,
   "metadata": {},
   "outputs": [],
   "source": [
    "from stocksense.api.data import get_kline_df\n",
    "\n",
    "endpoint = 'binance'\n",
    "symbol = 'BTC/USDT'\n",
    "\n",
    "# df is a DataFrame with columns : \"open\", \"high\", \"low\", \"close\", \"volume\"\n",
    "df = await get_kline_df(endpoint, symbol, since=datetime(2018, 5, 15), until=datetime(2024, 11, 20), timeframe='1h')\n",
    "df = scdata.data_preprocess(df)"
   ]
  },
  {
   "cell_type": "code",
   "execution_count": null,
   "metadata": {},
   "outputs": [],
   "source": [
    "# Create a TradingEnv environment\n",
    "env = scenv.make_trading_env(\n",
    "    name=symbol,\n",
    "    df=df,  # Your dataset with your custom features\n",
    "    positions=[-1, 0, 1],  # -1 (=SHORT), 0(=OUT), +1 (=LONG)\n",
    "    trading_fees=0.01/100,  # 0.01% per stock buy / sell (Binance fees)\n",
    "    borrow_interest_rate=0.0003/100,  # 0.0003% per timestep (one timestep = 1h here)\n",
    ")"
   ]
  },
  {
   "cell_type": "code",
   "execution_count": null,
   "metadata": {},
   "outputs": [],
   "source": [
    "\n",
    "device = scutils.get_device()\n",
    "\n",
    "# Load the model\n",
    "policy_net = scmodels.NaiveDQN(env).to(device)\n",
    "policy_net.load_state_dict(torch.load(\n",
    "    \"model.pth\", weights_only=True, map_location=device))\n",
    "policy_net.eval()"
   ]
  },
  {
   "cell_type": "code",
   "execution_count": null,
   "metadata": {},
   "outputs": [],
   "source": [
    "# Test the model\n",
    "state, info = env.reset()\n",
    "state = torch.tensor(state, dtype=torch.float32, device=device).unsqueeze(0)\n",
    "for t in tqdm(count(), total=len(df)):\n",
    "    action = policy_net.act(state)\n",
    "    observation, reward, terminated, truncated, _ = env.step(action.item())\n",
    "    state = torch.tensor(\n",
    "        observation,\n",
    "        dtype=torch.float32, device=device).unsqueeze(0)\n",
    "    if terminated or truncated:\n",
    "        break"
   ]
  }
 ],
 "metadata": {
  "kernelspec": {
   "display_name": ".venv",
   "language": "python",
   "name": "python3"
  },
  "language_info": {
   "codemirror_mode": {
    "name": "ipython",
    "version": 3
   },
   "file_extension": ".py",
   "mimetype": "text/x-python",
   "name": "python",
   "nbconvert_exporter": "python",
   "pygments_lexer": "ipython3",
   "version": "3.12.4"
  }
 },
 "nbformat": 4,
 "nbformat_minor": 2
}
