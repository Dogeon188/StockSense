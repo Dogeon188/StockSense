{
 "cells": [
  {
   "cell_type": "code",
   "execution_count": 1,
   "metadata": {},
   "outputs": [],
   "source": [
    "import torch\n",
    "import torch.nn as nn\n",
    "import torch.optim as optim\n",
    "import matplotlib.pyplot as plt\n",
    "import random\n",
    "import math\n",
    "from datetime import datetime\n",
    "from itertools import count\n",
    "import pandas as pd\n",
    "import gymnasium as gym\n",
    "\n",
    "from IPython import display\n",
    "\n",
    "import stockcore.data as scdata\n",
    "import stockcore.models as scmodels\n",
    "import stockcore.environment as scenv\n",
    "import stockcore.utils as scutils"
   ]
  },
  {
   "cell_type": "code",
   "execution_count": 2,
   "metadata": {},
   "outputs": [],
   "source": [
    "is_ipython = scutils.setup_mpl()\n",
    "device = scutils.get_device()\n",
    "\n",
    "if is_ipython:\n",
    "    from tqdm.notebook import tqdm\n",
    "else:\n",
    "    from tqdm import tqdm"
   ]
  },
  {
   "cell_type": "code",
   "execution_count": 3,
   "metadata": {},
   "outputs": [
    {
     "name": "stdout",
     "output_type": "stream",
     "text": [
      "(37305, 7)\n",
      "(37305, 7)\n",
      "                  date           unix     open     high      low    close  \\\n",
      "0  2020-08-18 07:00:00  1597734000000  12278.7  12289.3  12246.5  12284.4   \n",
      "1  2020-08-18 08:00:00  1597737600000  12283.5  12306.1  12265.5  12265.8   \n",
      "2  2020-08-18 09:00:00  1597741200000  12265.0  12273.9  12231.3  12235.2   \n",
      "3  2020-08-18 10:00:00  1597744800000  12234.8  12313.2  12197.9  12295.4   \n",
      "4  2020-08-18 11:00:00  1597748400000  12293.7  12298.8  12180.4  12189.4   \n",
      "\n",
      "       volume  \n",
      "0  167.048618  \n",
      "1  148.145490  \n",
      "2  155.735895  \n",
      "3  206.575700  \n",
      "4  210.599326  \n",
      "                  date           unix    open    high     low   close  \\\n",
      "0  2020-08-18 07:00:00  1597734000000  430.00  435.00  410.00  430.30   \n",
      "1  2020-08-18 08:00:00  1597737600000  430.27  431.79  430.27  430.80   \n",
      "2  2020-08-18 09:00:00  1597741200000  430.86  431.13  428.71  429.35   \n",
      "3  2020-08-18 10:00:00  1597744800000  429.75  432.69  428.59  431.90   \n",
      "4  2020-08-18 11:00:00  1597748400000  432.09  432.89  426.99  427.45   \n",
      "\n",
      "        volume  \n",
      "0   487.154463  \n",
      "1   454.176153  \n",
      "2  1183.710884  \n",
      "3  1686.183227  \n",
      "4  1980.692724  \n"
     ]
    }
   ],
   "source": [
    "# read csv as pandas dataframe\n",
    "btc_usd_df = pd.read_csv('btc_usd.csv')\n",
    "eth_usd_df = pd.read_csv('eth_usd.csv')\n",
    "print(btc_usd_df.shape)\n",
    "print(eth_usd_df.shape)\n",
    "print(btc_usd_df.head(5))\n",
    "print(eth_usd_df.head(5))"
   ]
  },
  {
   "cell_type": "code",
   "execution_count": 4,
   "metadata": {},
   "outputs": [],
   "source": [
    "env = scenv.MultiStockTradingEnv(name= \"BTC_ETH_USD\", dfs=[btc_usd_df, eth_usd_df], trading_fees=0.01/100)"
   ]
  },
  {
   "cell_type": "code",
   "execution_count": 5,
   "metadata": {},
   "outputs": [
    {
     "data": {
      "text/plain": [
       "NaiveDQN(\n",
       "  (layer1): Linear(in_features=10, out_features=128, bias=True)\n",
       "  (layer2): Linear(in_features=128, out_features=128, bias=True)\n",
       "  (layer3): Linear(in_features=128, out_features=3, bias=True)\n",
       ")"
      ]
     },
     "execution_count": 5,
     "metadata": {},
     "output_type": "execute_result"
    }
   ],
   "source": [
    "\n",
    "device = scutils.get_device()\n",
    "\n",
    "# Load the model\n",
    "policy_net = scmodels.NaiveDQN(env).to(device)\n",
    "policy_net.load_state_dict(torch.load(\n",
    "    \"model.pth\", weights_only=True, map_location=device))\n",
    "policy_net.eval()"
   ]
  },
  {
   "cell_type": "code",
   "execution_count": 8,
   "metadata": {},
   "outputs": [
    {
     "data": {
      "application/vnd.jupyter.widget-view+json": {
       "model_id": "564f395944284bc2967fe072ae507171",
       "version_major": 2,
       "version_minor": 0
      },
      "text/plain": [
       "  0%|          | 0/37138 [00:00<?, ?it/s]"
      ]
     },
     "metadata": {},
     "output_type": "display_data"
    },
    {
     "name": "stdout",
     "output_type": "stream",
     "text": [
      "Portfolio Return : 819.17%\n"
     ]
    }
   ],
   "source": [
    "# Test the model\n",
    "state = env.reset()\n",
    "state = torch.tensor(state, dtype=torch.float32, device=device).unsqueeze(0)\n",
    "for t in tqdm(count(), total=env.get_dfs_length()):\n",
    "    action = policy_net.act(state)\n",
    "    observation, reward, terminated, truncated, _ = env.step(action.item())\n",
    "    state = torch.tensor(\n",
    "        observation,\n",
    "        dtype=torch.float32, device=device).unsqueeze(0)\n",
    "    if terminated or truncated:\n",
    "        break"
   ]
  }
 ],
 "metadata": {
  "kernelspec": {
   "display_name": "ml",
   "language": "python",
   "name": "python3"
  },
  "language_info": {
   "codemirror_mode": {
    "name": "ipython",
    "version": 3
   },
   "file_extension": ".py",
   "mimetype": "text/x-python",
   "name": "python",
   "nbconvert_exporter": "python",
   "pygments_lexer": "ipython3",
   "version": "3.9.20"
  }
 },
 "nbformat": 4,
 "nbformat_minor": 2
}
