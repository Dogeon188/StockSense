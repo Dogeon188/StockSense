{
 "cells": [
  {
   "cell_type": "code",
   "execution_count": 1,
   "metadata": {},
   "outputs": [],
   "source": [
    "from stocksense.api import data as api_data"
   ]
  },
  {
   "cell_type": "code",
   "execution_count": 2,
   "metadata": {},
   "outputs": [
    {
     "data": {
      "text/plain": [
       "'binance'"
      ]
     },
     "execution_count": 2,
     "metadata": {},
     "output_type": "execute_result"
    }
   ],
   "source": [
    "endpoint = (await api_data.get_endpoints())[0]\n",
    "endpoint"
   ]
  },
  {
   "cell_type": "code",
   "execution_count": null,
   "metadata": {},
   "outputs": [],
   "source": [
    "symbols = await api_data.get_symbols(endpoint)\n",
    "target_symbol = symbols[0]"
   ]
  },
  {
   "cell_type": "code",
   "execution_count": 4,
   "metadata": {},
   "outputs": [
    {
     "name": "stdout",
     "output_type": "stream",
     "text": [
      "ETH/BTC downloaded from binance and stored at cache/binance/binance-ETHBTC-1h.pkl\n"
     ]
    },
    {
     "data": {
      "text/html": [
       "<div>\n",
       "<style scoped>\n",
       "    .dataframe tbody tr th:only-of-type {\n",
       "        vertical-align: middle;\n",
       "    }\n",
       "\n",
       "    .dataframe tbody tr th {\n",
       "        vertical-align: top;\n",
       "    }\n",
       "\n",
       "    .dataframe thead th {\n",
       "        text-align: right;\n",
       "    }\n",
       "</style>\n",
       "<table border=\"1\" class=\"dataframe\">\n",
       "  <thead>\n",
       "    <tr style=\"text-align: right;\">\n",
       "      <th></th>\n",
       "      <th>unix</th>\n",
       "      <th>open</th>\n",
       "      <th>high</th>\n",
       "      <th>low</th>\n",
       "      <th>close</th>\n",
       "      <th>volume</th>\n",
       "    </tr>\n",
       "    <tr>\n",
       "      <th>date</th>\n",
       "      <th></th>\n",
       "      <th></th>\n",
       "      <th></th>\n",
       "      <th></th>\n",
       "      <th></th>\n",
       "      <th></th>\n",
       "    </tr>\n",
       "  </thead>\n",
       "  <tbody>\n",
       "    <tr>\n",
       "      <th>2021-01-01 01:00:00</th>\n",
       "      <td>1609462800000</td>\n",
       "      <td>0.025317</td>\n",
       "      <td>0.025526</td>\n",
       "      <td>0.025230</td>\n",
       "      <td>0.025441</td>\n",
       "      <td>18283.956</td>\n",
       "    </tr>\n",
       "    <tr>\n",
       "      <th>2021-01-01 02:00:00</th>\n",
       "      <td>1609466400000</td>\n",
       "      <td>0.025441</td>\n",
       "      <td>0.025551</td>\n",
       "      <td>0.025370</td>\n",
       "      <td>0.025485</td>\n",
       "      <td>11153.682</td>\n",
       "    </tr>\n",
       "    <tr>\n",
       "      <th>2021-01-01 03:00:00</th>\n",
       "      <td>1609470000000</td>\n",
       "      <td>0.025490</td>\n",
       "      <td>0.025517</td>\n",
       "      <td>0.025399</td>\n",
       "      <td>0.025441</td>\n",
       "      <td>6987.944</td>\n",
       "    </tr>\n",
       "    <tr>\n",
       "      <th>2021-01-01 04:00:00</th>\n",
       "      <td>1609473600000</td>\n",
       "      <td>0.025442</td>\n",
       "      <td>0.025458</td>\n",
       "      <td>0.025358</td>\n",
       "      <td>0.025405</td>\n",
       "      <td>6924.507</td>\n",
       "    </tr>\n",
       "    <tr>\n",
       "      <th>2021-01-01 05:00:00</th>\n",
       "      <td>1609477200000</td>\n",
       "      <td>0.025406</td>\n",
       "      <td>0.025498</td>\n",
       "      <td>0.025376</td>\n",
       "      <td>0.025382</td>\n",
       "      <td>5909.568</td>\n",
       "    </tr>\n",
       "  </tbody>\n",
       "</table>\n",
       "</div>"
      ],
      "text/plain": [
       "                              unix      open      high       low     close  \\\n",
       "date                                                                         \n",
       "2021-01-01 01:00:00  1609462800000  0.025317  0.025526  0.025230  0.025441   \n",
       "2021-01-01 02:00:00  1609466400000  0.025441  0.025551  0.025370  0.025485   \n",
       "2021-01-01 03:00:00  1609470000000  0.025490  0.025517  0.025399  0.025441   \n",
       "2021-01-01 04:00:00  1609473600000  0.025442  0.025458  0.025358  0.025405   \n",
       "2021-01-01 05:00:00  1609477200000  0.025406  0.025498  0.025376  0.025382   \n",
       "\n",
       "                        volume  \n",
       "date                            \n",
       "2021-01-01 01:00:00  18283.956  \n",
       "2021-01-01 02:00:00  11153.682  \n",
       "2021-01-01 03:00:00   6987.944  \n",
       "2021-01-01 04:00:00   6924.507  \n",
       "2021-01-01 05:00:00   5909.568  "
      ]
     },
     "execution_count": 4,
     "metadata": {},
     "output_type": "execute_result"
    }
   ],
   "source": [
    "from datetime import datetime\n",
    "\n",
    "df = await api_data.get_kline_df(endpoint, target_symbol, datetime(2021, 1, 1), datetime(2021, 2, 1), '1h')\n",
    "df.head()"
   ]
  }
 ],
 "metadata": {
  "kernelspec": {
   "display_name": ".venv",
   "language": "python",
   "name": "python3"
  },
  "language_info": {
   "codemirror_mode": {
    "name": "ipython",
    "version": 3
   },
   "file_extension": ".py",
   "mimetype": "text/x-python",
   "name": "python",
   "nbconvert_exporter": "python",
   "pygments_lexer": "ipython3",
   "version": "3.12.4"
  }
 },
 "nbformat": 4,
 "nbformat_minor": 2
}
